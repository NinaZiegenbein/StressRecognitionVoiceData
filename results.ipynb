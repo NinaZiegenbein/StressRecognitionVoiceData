{
 "cells": [
  {
   "cell_type": "code",
   "execution_count": null,
   "metadata": {},
   "outputs": [],
   "source": [
    "import numpy as np\n",
    "import matplotlib.pyplot as plt\n",
    "import pandas as pd\n",
    "import re"
   ]
  },
  {
   "cell_type": "code",
   "execution_count": null,
   "metadata": {},
   "outputs": [],
   "source": [
    "# Helper Code to extract the losses from the out-file\n",
    "\n",
    "# Initialize lists to store the losses\n",
    "train_losses_257 = [[] for _ in range(5)]  # Assuming 5 folds\n",
    "validation_losses_257 = [[] for _ in range(5)]\n",
    "test_losses_257 = [[] for _ in range(5)]\n",
    "\n",
    "# Read the text file and extract losses\n",
    "with open('/homes/nziegenbein/slurm-257.out', 'r') as file:\n",
    "    for line in file:\n",
    "        if \"Fold\" in line and \"Epoch\" in line:\n",
    "            fold = int(re.search(r'Fold (\\d+)/(\\d+)', line).group(1)) - 1\n",
    "            train = float(re.search(r'Train Loss: (\\d+\\.\\d+)', line).group(1))\n",
    "            val = float(re.search(r'Validation Loss: (\\d+\\.\\d+)', line).group(1))\n",
    "            test = float(re.search(r'Test Loss:  (\\d+\\.\\d+)', line).group(1))\n",
    "\n",
    "            train_losses_257[fold].append(train)\n",
    "            validation_losses_257[fold].append(val)\n",
    "            test_losses_257[fold].append(test)\n",
    "print(\"train\", train_losses_257)\n",
    "print(\"val:\", validation_losses_257)\n",
    "print(\"test:\", test_losses_257)\n"
   ]
  },
  {
   "cell_type": "code",
   "execution_count": null,
   "metadata": {},
   "outputs": [],
   "source": [
    "# Results from slurm-256.out\n",
    "# 5 fold Cross-Validation\n",
    "# window_size: 8 ; stride: 4\n",
    "# batch_size: 16 ; learning_rate: 0.0001\n",
    "# Using TSST v DST Data with SELF-assessed stress\n",
    "\n",
    "train_losses_256 = [[0.0453, 0.0442, 0.0411, 0.0425, 0.0422, 0.0416, 0.0413, 0.0419, 0.0424, 0.0421], [0.0474, 0.0436, 0.0432, 0.0427, 0.0437, 0.0423, 0.0426, 0.0423, 0.0423, 0.0424], [0.0234, 0.0236, 0.0224, 0.0222, 0.0223, 0.0219, 0.0225, 0.0220, 0.0217, 0.0217], [0.0495, 0.0456, 0.0448, 0.0448, 0.0447, 0.0443, 0.0451, 0.0447, 0.0447, 0.0445], [0.0453, 0.0429, 0.0440, 0.0421, 0.0426, 0.0411, 0.0409, 0.0419, 0.0412, 0.0414]]\n",
    "validation_losses_256 = [[0.0335, 0.0325, 0.0329, 0.0319, 0.0330, 0.0326, 0.0326, 0.0378, 0.0324, 0.0319], [0.0238, 0.0396, 0.0241, 0.0288, 0.0267, 0.0242, 0.0230, 0.0196, 0.0235, 0.0211], [0.1577, 0.1465, 0.0949, 0.0985, 0.1283, 0.1395, 0.1218, 0.1369, 0.1257, 0.1100], [0.0205, 0.0246, 0.0155, 0.0176, 0.0146, 0.0201, 0.0179, 0.0266, 0.0156, 0.0214], [0.0533, 0.0338, 0.0668, 0.0349, 0.0579, 0.0299, 0.0472, 0.0424, 0.0484, 0.0516]]\n",
    "test_losses_256 = [[0.2576, 0.2412, 0.2485, 0.2184, 0.2506, 0.2427, 0.2435, 0.2957, 0.2415, 0.2187], [0.2185, 0.1633, 0.2164, 0.1962, 0.2056, 0.2159, 0.2221, 0.2460, 0.2201, 0.2336], [0.3466, 0.3265, 0.2349, 0.2419, 0.2955, 0.3149, 0.2846, 0.3110, 0.2920, 0.2634], [0.2123, 0.1923, 0.2453, 0.2287, 0.2548, 0.2127, 0.2250, 0.1842, 0.2432, 0.2051], [0.1712, 0.2145, 0.1501, 0.2105, 0.1642, 0.2237, 0.1828, 0.1930, 0.1808, 0.1746]]\n",
    "\n",
    "print(train_losses_256)"
   ]
  },
  {
   "cell_type": "code",
   "execution_count": null,
   "metadata": {},
   "outputs": [],
   "source": [
    "# Results from slurm-257.out\n",
    "# 5 fold Cross-Validation\n",
    "# window_size: 8 ; stride: 4\n",
    "# batch_size: 16 ; learning_rate: 0.0001\n",
    "# Using TSST v DST Data with PANEl stress\n",
    "\n",
    "train_losses_257 = [[0.1045, 0.0843, 0.0823, 0.081, 0.0818, 0.0844, 0.0828, 0.0845, 0.082, 0.0809], [0.0874, 0.0788, 0.0768, 0.0781, 0.0746, 0.0739, 0.0751, 0.074, 0.0742, 0.0727], [0.0873, 0.0729, 0.0668, 0.0679, 0.0676, 0.0652, 0.0673, 0.0696, 0.0683, 0.0665], [0.0802, 0.0666, 0.0663, 0.0672, 0.0686, 0.0665, 0.0668, 0.0698, 0.0654, 0.0676], [0.0886, 0.0803, 0.0782, 0.0764, 0.0765, 0.0748, 0.0769, 0.0787, 0.0749, 0.076]]\n",
    "validation_losses_257 = [[0.0504, 0.0651, 0.0516, 0.0542, 0.0376, 0.0437, 0.0416, 0.0547, 0.0416, 0.0608], [0.1006, 0.0991, 0.0948, 0.0412, 0.0405, 0.0754, 0.0698, 0.0699, 0.0833, 0.0764], [0.1414, 0.19, 0.2164, 0.1282, 0.118, 0.1032, 0.0923, 0.0886, 0.0988, 0.1175], [0.1035, 0.1162, 0.1161, 0.1352, 0.1038, 0.1088, 0.1057, 0.12, 0.1254, 0.1148], [0.0617, 0.0694, 0.0623, 0.0612, 0.0744, 0.0613, 0.0685, 0.0612, 0.0644, 0.0621]]\n",
    "test_losses_257 = [[0.0273, 0.0452, 0.0279, 0.0312, 0.0074, 0.0171, 0.0145, 0.032, 0.0146, 0.041], [0.0454, 0.0435, 0.0411, 0.0067, 0.0065, 0.0281, 0.0245, 0.0244, 0.0337, 0.0291], [0.001, 0.003, 0.0077, 0.0031, 0.0053, 0.0114, 0.0187, 0.0217, 0.014, 0.0056], [0.0155, 0.0058, 0.006, 0.0009, 0.0153, 0.0107, 0.0134, 0.0044, 0.0028, 0.0068], [0.0145, 0.003, 0.012, 0.0217, 0.0011, 0.0173, 0.0036, 0.0218, 0.0078, 0.0129]]"
   ]
  },
  {
   "cell_type": "code",
   "execution_count": null,
   "metadata": {},
   "outputs": [],
   "source": [
    "def plot_losses(train, val, i, slurm_id):\n",
    "    print(\"i:\", i)\n",
    "    plt.figure()\n",
    "    plt.plot(range(1, 11), train[i], label='Train Loss')\n",
    "    plt.plot(range(1, 11), val[i], label='Validation Loss')\n",
    "    plt.xlabel('Epoch')\n",
    "    plt.ylabel('Loss')\n",
    "    plt.title(\"Fold\" + str(i+1))\n",
    "    plt.legend()\n",
    "    plt.savefig(\"/homes/nziegenbein/losses_\" + slurm_id + \"_fold-\" + str(i+1) + \".png\")\n",
    "    plt.show()"
   ]
  },
  {
   "cell_type": "code",
   "execution_count": null,
   "metadata": {},
   "outputs": [],
   "source": [
    "for i in range(len(train_losses_256)):\n",
    "    plot_losses(train_losses_256, validation_losses_256, i, \"256\")\n"
   ]
  },
  {
   "cell_type": "code",
   "execution_count": null,
   "metadata": {},
   "outputs": [],
   "source": [
    "for i in range(len(train_losses_257)):\n",
    "    plot_losses(train_losses_257, validation_losses_257, i, \"257\")"
   ]
  },
  {
   "cell_type": "code",
   "execution_count": null,
   "metadata": {},
   "outputs": [],
   "source": []
  }
 ],
 "metadata": {
  "kernelspec": {
   "display_name": "Python 3",
   "language": "python",
   "name": "python3"
  },
  "language_info": {
   "codemirror_mode": {
    "name": "ipython",
    "version": 2
   },
   "file_extension": ".py",
   "mimetype": "text/x-python",
   "name": "python",
   "nbconvert_exporter": "python",
   "pygments_lexer": "ipython2",
   "version": "2.7.6"
  }
 },
 "nbformat": 4,
 "nbformat_minor": 0
}
