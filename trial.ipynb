{
 "cells": [
  {
   "cell_type": "code",
   "execution_count": null,
   "metadata": {},
   "outputs": [],
   "source": [
    "from moviepy.editor import VideoFileClip, AudioFileClip\n",
    "import glob\n",
    "import pandas as pd\n",
    "import re\n",
    "import os\n",
    "from IPython.display import Video, Audio"
   ]
  },
  {
   "cell_type": "code",
   "execution_count": null,
   "metadata": {},
   "outputs": [],
   "source": [
    "# Visualization of VAS_Stress\n",
    "import matplotlib.pyplot as plt\n",
    "\n",
    "# Set the figure size\n",
    "plt.rcParams['figure.figsize'] = [10, 5]\n",
    "\n",
    "# Define the labels for the x-axis\n",
    "new_dst_labels = [\"T0\", \"T1\", \"T2a\", \"T2\", \"T3\", \"T4\", \"T5\"]\n",
    "new_tsst_labels = [\"T0\", \"T1\", \"T2\", \"T3\", \"T4\", \"T5\"]\n",
    "\n",
    "# Create the subplots grid\n",
    "fig, axs = plt.subplots(1, 2, sharey=True)\n",
    "\n",
    "# Plot the first figure on the left subplot\n",
    "participants.filter(like=\"dst_vas_stress_T\").T.plot(legend=False, ax=axs[0])\n",
    "axs[0].set_xticks(range(len(new_dst_labels)))\n",
    "axs[0].set_xticklabels(new_dst_labels)\n",
    "axs[0].set_title('DST')\n",
    "\n",
    "# Plot the second figure on the right subplot\n",
    "participants.filter(like=\"tsst_vas_stress_T\").T.plot(legend=False, ax=axs[1])\n",
    "axs[1].set_xticks(range(len(new_tsst_labels)))\n",
    "axs[1].set_xticklabels(new_tsst_labels)\n",
    "axs[1].set_title('TSST')\n",
    "\n",
    "# Set the y-axis label\n",
    "fig.text(0.04, 0.5, 'VAS stress', va='center', rotation='vertical')\n",
    "\n",
    "# Set the overall title\n",
    "fig.suptitle('VAS stress for DST and TSST')\n",
    "\n",
    "# Show the plot\n",
    "plt.show()"
   ]
  },
  {
   "cell_type": "code",
   "execution_count": null,
   "metadata": {},
   "outputs": [],
   "source": [
    "input_file = video_files_tsst[3]\n",
    "output_file= \"/data/dst_tsst_22_bi_multi_nt_lab/processed/audio_files/\" + input_file.rsplit('/', 1)[1][:-3] + \"mp3\"\n",
    "print(input_file, output_file)\n"
   ]
  },
  {
   "cell_type": "code",
   "execution_count": null,
   "metadata": {},
   "outputs": [],
   "source": [
    "audio_files_tsst = glob.glob(\"/data/dst_tsst_22_bi_multi_nt_lab/processed/audio_files/**.mp3\",recursive=True)\n",
    "print(audio_files_tsst)"
   ]
  },
  {
   "cell_type": "code",
   "execution_count": null,
   "metadata": {},
   "outputs": [],
   "source": [
    "\n",
    "\n",
    "print(audio_files_tsst[0])"
   ]
  },
  {
   "cell_type": "code",
   "execution_count": null,
   "metadata": {},
   "outputs": [],
   "source": [
    "input_file = VideoFileClip(video_files_tsst2[1])\n",
    "output_file= \"/data/dst_tsst_22_bi_multi_nt_lab/processed/audio_files/test_TSST2_audio_quality.mp3\"\n",
    "# print(input_file, output_file)\n",
    "# skip creating mp3, if already exists\n",
    "if not os.path.exists(output_file):\n",
    "    clip = VideoFileClip(input_file)\n",
    "    clip.audio.write_audiofile(output_file)\n",
    "Audio(output_file)"
   ]
  },
  {
   "cell_type": "code",
   "execution_count": null,
   "metadata": {},
   "outputs": [],
   "source": [
    "print(len(audio_files_tsst))"
   ]
  },
  {
   "cell_type": "code",
   "execution_count": null,
   "metadata": {},
   "outputs": [],
   "source": [
    "print(audio_files_tsst)"
   ]
  },
  {
   "cell_type": "code",
   "execution_count": null,
   "metadata": {},
   "outputs": [],
   "source": [
    "from mutagen.mp3 import MP3\n",
    "\n",
    "# Provide the path to your MP3 file\n",
    "file_path = '/path/to/your/file.mp3'\n",
    "\n",
    "# Load the MP3 file using Mutagen\n",
    "mp3 = MP3(file_path)\n",
    "\n",
    "# Check the encoding\n",
    "encoding = mp3.info.encoding\n",
    "print(\"MP3 Encoding:\", encoding)"
   ]
  },
  {
   "cell_type": "code",
   "execution_count": null,
   "metadata": {},
   "outputs": [],
   "source": []
  }
 ],
 "metadata": {
  "kernelspec": {
   "display_name": "Python 3",
   "language": "python",
   "name": "python3"
  },
  "language_info": {
   "codemirror_mode": {
    "name": "ipython",
    "version": 2
   },
   "file_extension": ".py",
   "mimetype": "text/x-python",
   "name": "python",
   "nbconvert_exporter": "python",
   "pygments_lexer": "ipython2",
   "version": "2.7.6"
  }
 },
 "nbformat": 4,
 "nbformat_minor": 0
}
