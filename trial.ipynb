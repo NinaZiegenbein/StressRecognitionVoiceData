{
 "cells": [
  {
   "cell_type": "code",
   "execution_count": null,
   "metadata": {},
   "outputs": [],
   "source": [
    "from moviepy.editor import VideoFileClip, AudioFileClip\n",
    "import glob\n",
    "import pandas as pd\n",
    "import pydub"
   ]
  },
  {
   "cell_type": "code",
   "execution_count": null,
   "metadata": {},
   "outputs": [],
   "source": [
    "# Get all TSST video files\n",
    "video_files_tsst = glob.glob(\"/data/dst_tsst_22_bi_multi_nt_lab/raw/mainstudy/**/*.MOV\",recursive=True)\n",
    "video_files_tsst2 = glob.glob(\"/data/dst_tsst_22_bi_multi_nt_lab/raw/mainstudy/**/*.MP4\",recursive=True)\n",
    "\n",
    "print(\"I found\", len(video_files_tsst), \"TSST videos\")\n",
    "print(\"I found\", len(video_files_tsst2), \"secondary TSST videos\")"
   ]
  },
  {
   "cell_type": "code",
   "execution_count": null,
   "metadata": {},
   "outputs": [],
   "source": [
    "# Convert all .MOV files into mp3 files - takes a while\n",
    "audio_files_tsst = []\n",
    "for input_file in video_files_tsst:\n",
    "    output_file= \"/data/dst_tsst_22_bi_multi_nt_lab/processed/audio_files/\" + input_file.rsplit('/', 1)[1][:-3] + \"mp3\"\n",
    "    # print(input_file, output_file)\n",
    "    # skip creating mp3, if already exists\n",
    "    if not os.path.exists(output_file):\n",
    "        clip = VideoFileClip(input_file)\n",
    "        clip.audio.write_audiofile(output_file)\n",
    "    audio_files_tsst.append(output_file)\n",
    "    Audio(output_file)\n"
   ]
  },
  {
   "cell_type": "code",
   "execution_count": null,
   "metadata": {},
   "outputs": [],
   "source": [
    "# Start-times for segmentation in seconds after first camera start (manual inspection)\n",
    "segment_starts = {'CZ513556_tsst_video': 35, 'CS181122_tsst_video': 30, 'PD513556_tsst_video_': 30, 'KK483556_tsst_video_1b': -1, 'JK261022_tsst_video': 49, 'EC250123_tsst_video_2': -1, 'AZ573556_tsst_video': 0, 'JB011222_tsst_video': 23, 'DQ563556_tsst_video': 28, 'DK011122_tsst_video': 28, 'MK230123_tsst_video_2': -1, 'SB041122_tsst_video': 27, 'DC553556_tsst_video': 28, 'AS050123_tsst_video': 30, 'ML031122_tsst_video': 32, 'MK230123_tsst_video_1': 32, 'MX463556_tsst_video': 30, 'MG130123_tsst_video': 24, 'KO433656_tsst_video': 29, 'JK261022_tsst_video_2': -1, 'SB021122_tsst_video': 32, 'SE141122_tsst_video': 30, 'EC250123_tsst_video_1': 28, 'KK483556_tsst_video_1a': 33, 'SS291122_tsst_movie': 33, 'MS021222_tsst_video': 28, 'KT463556_tsst_video': -1, 'JB190123_tsst_video': 30, 'SB021122_tsst_video_2': -1, 'OQ503556_tsst_video': 28, 'NE563556_tsst_video': 28}"
   ]
  },
  {
   "cell_type": "code",
   "execution_count": null,
   "metadata": {},
   "outputs": [],
   "source": [
    "def segment_audio(audio_file, start):\n",
    "    audio = AudioFileClip(audio_file)\n",
    "    segment_length = 300 # 5minutes\n",
    "    end = start + segment_length\n",
    "    new_path = \"/data/dst_tsst_22_bi_multi_nt_lab/processed/audio_files/\" + audio_file.rsplit('/', 1)[1][:-4] + \"_segment.mp3\"\n",
    "    if start == -1:\n",
    "        return None\n",
    "    if not os.path.exists(new_path):\n",
    "        segment = audio.subclip(start, end)\n",
    "        segment.write_audiofile(new_path)\n",
    "    return new_path\n"
   ]
  },
  {
   "cell_type": "code",
   "execution_count": null,
   "metadata": {},
   "outputs": [],
   "source": [
    "video_data = {}\n",
    "for vfile in (video_files_tsst + video_files_tsst2):\n",
    "    token = vfile.split(\"/\")[-1][:8]\n",
    "    if \"cam\" in vfile:\n",
    "        name = \"TSST2\"\n",
    "    else:\n",
    "        name = \"TSST\"\n",
    "    if token not in video_data:\n",
    "        video_data[token] = {\"TSST\": None, \"TSST2\": None}\n",
    "    video_data[token][name] = vfile\n",
    "\n",
    "audio_data = {}\n",
    "for audio_name, start_num in segment_starts.items():\n",
    "    audio_file = \"/data/dst_tsst_22_bi_multi_nt_lab/processed/audio_files/\" + audio_name + \".mp3\"\n",
    "    token = audio_name[:8]\n",
    "    audio_segment = segment_audio(audio_file, start_num)\n",
    "    if token not in audio_data:\n",
    "        audio_data[token] = {\"audio_file\": None, \"audio_segment\": None, \"segment_start\": None}\n",
    "    audio_data[token][\"audio_file\"] = audio_file\n",
    "    audio_data[token][\"audio_segment\"] = audio_segment\n",
    "    audio_data[token][\"segment_start\"] = start_num\n",
    "\n",
    "data = []\n",
    "for token, values in video_data.items():\n",
    "    audio_file = audio_data[token][\"audio_file\"] if token in audio_data else None\n",
    "    audio_segment = audio_data[token][\"audio_segment\"] if token in audio_data else None\n",
    "    segment_start = audio_data[token][\"segment_start\"] if token in audio_data else None\n",
    "    data.append([token, values[\"TSST\"], values[\"TSST2\"], audio_file, audio_segment, segment_start])\n",
    "\n",
    "tsst_data = pd.DataFrame(data, columns=[\"token\", \"TSST_video\", \"TSST2_video\", \"TSST_audio\", \"TSST_audio_segment\", \"segment_start\"])\n",
    "\n",
    "# Print the updated DataFrame\n",
    "display(tsst_data)"
   ]
  },
  {
   "cell_type": "code",
   "execution_count": null,
   "metadata": {},
   "outputs": [],
   "source": [
    "# get all participant information\n",
    "participants = pd.read_csv(\"/data/dst_tsst_22_bi_multi_nt_lab/processed/participant.csv\")"
   ]
  },
  {
   "cell_type": "code",
   "execution_count": null,
   "metadata": {},
   "outputs": [],
   "source": [
    "# Function to get the duration of a video\n",
    "def get_video_duration(video_path):\n",
    "    clip = VideoFileClip(video_path)\n",
    "    return clip.duration"
   ]
  },
  {
   "cell_type": "code",
   "execution_count": null,
   "metadata": {},
   "outputs": [],
   "source": [
    "# delete non-native German speakers from dataframe\n",
    "tokens_to_drop = participants.loc[participants['mothertongue'] != 'Deutsch', 'token'].tolist()\n",
    "tsst_data = tsst_data[~tsst_data['token'].isin(tokens_to_drop)]\n",
    "\n",
    "# delete all length less than 10minutes (original video)\n",
    "tsst_data = tsst_data[tsst_data['TSST_video'].apply(lambda x: get_video_duration(x) >= 600)]\n",
    "\n",
    "display(tsst_data)"
   ]
  },
  {
   "cell_type": "code",
   "execution_count": null,
   "metadata": {},
   "outputs": [],
   "source": [
    "\n",
    "\n"
   ]
  },
  {
   "cell_type": "code",
   "execution_count": null,
   "metadata": {},
   "outputs": [],
   "source": []
  },
  {
   "cell_type": "code",
   "execution_count": null,
   "metadata": {},
   "outputs": [],
   "source": [
    "from IPython.display import Video, Audio\n",
    "import os"
   ]
  },
  {
   "cell_type": "code",
   "execution_count": null,
   "metadata": {},
   "outputs": [],
   "source": [
    "input_file = video_files_tsst[3]\n",
    "output_file= \"/data/dst_tsst_22_bi_multi_nt_lab/processed/audio_files/\" + input_file.rsplit('/', 1)[1][:-3] + \"mp3\"\n",
    "print(input_file, output_file)\n"
   ]
  },
  {
   "cell_type": "code",
   "execution_count": null,
   "metadata": {},
   "outputs": [],
   "source": [
    "audio_files_tsst = glob.glob(\"/data/dst_tsst_22_bi_multi_nt_lab/processed/audio_files/**.mp3\",recursive=True)\n",
    "print(audio_files_tsst)"
   ]
  },
  {
   "cell_type": "code",
   "execution_count": null,
   "metadata": {},
   "outputs": [],
   "source": [
    "\n",
    "\n",
    "print(audio_files_tsst[0])"
   ]
  },
  {
   "cell_type": "code",
   "execution_count": null,
   "metadata": {},
   "outputs": [],
   "source": [
    "input_file = VideoFileClip(video_files_tsst2[1])\n",
    "output_file= \"/data/dst_tsst_22_bi_multi_nt_lab/processed/audio_files/test_TSST2_audio_quality.mp3\"\n",
    "# print(input_file, output_file)\n",
    "# skip creating mp3, if already exists\n",
    "if not os.path.exists(output_file):\n",
    "    clip = VideoFileClip(input_file)\n",
    "    clip.audio.write_audiofile(output_file)\n",
    "Audio(output_file)"
   ]
  },
  {
   "cell_type": "code",
   "execution_count": null,
   "metadata": {},
   "outputs": [],
   "source": [
    "print(len(audio_files_tsst))"
   ]
  },
  {
   "cell_type": "code",
   "execution_count": null,
   "metadata": {},
   "outputs": [],
   "source": [
    "print(audio_files_tsst)"
   ]
  },
  {
   "cell_type": "code",
   "execution_count": null,
   "metadata": {},
   "outputs": [],
   "source": []
  }
 ],
 "metadata": {
  "kernelspec": {
   "display_name": "Python 3",
   "language": "python",
   "name": "python3"
  },
  "language_info": {
   "codemirror_mode": {
    "name": "ipython",
    "version": 2
   },
   "file_extension": ".py",
   "mimetype": "text/x-python",
   "name": "python",
   "nbconvert_exporter": "python",
   "pygments_lexer": "ipython2",
   "version": "2.7.6"
  }
 },
 "nbformat": 4,
 "nbformat_minor": 0
}
