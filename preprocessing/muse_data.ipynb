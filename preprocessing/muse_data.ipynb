{
 "cells": [
  {
   "cell_type": "code",
   "execution_count": null,
   "metadata": {},
   "outputs": [],
   "source": [
    "import glob\n",
    "import pandas as pd\n",
    "import os\n",
    "import re\n",
    "from sklearn.model_selection import train_test_split"
   ]
  },
  {
   "cell_type": "code",
   "execution_count": null,
   "metadata": {},
   "outputs": [],
   "source": [
    "audio_files_muse = glob.glob(\"/data/tsst_22_muse_video_nt_lab/raw/c3_muse_stress_2022/raw_data/audio/*.wav\")\n",
    "print(audio_files_muse)\n",
    "valence_files_muse = glob.glob(\"/data/tsst_22_muse_video_nt_lab/raw/c3_muse_stress_2022/label_segments/valence/*.csv\")\n",
    "arousal_files_muse = glob.glob(\"/data/tsst_22_muse_video_nt_lab/raw/c3_muse_stress_2022/label_segments/physio-arousal/*.csv\")"
   ]
  },
  {
   "cell_type": "code",
   "execution_count": null,
   "metadata": {},
   "outputs": [],
   "source": [
    "# create dataframe of valence and arousal csvs and fill them into a dictionary, where the key is the audio file name\n",
    "muse_dict = {}\n",
    "for v_file, a_file in zip(valence_files_muse,arousal_files_muse):\n",
    "    v_df = pd.read_csv(v_file)\n",
    "    a_df = pd.read_csv(a_file)\n",
    "    # drop speaker_id\n",
    "    v_df = v_df.drop(columns=['subject_id'])\n",
    "    a_df = a_df.drop(columns=['subject_id'])\n",
    "    # Check for NaN values in the \"value\" column\n",
    "    if v_df['value'].isna().any() or a_df['value'].isna().any():\n",
    "        continue\n",
    "    i = re.search(r'(\\d+)\\.csv', v_file)[1]\n",
    "    audio_name = i + \".wav\"\n",
    "    audio_path = [path for path in audio_files_muse if audio_name in path][0]\n",
    "    muse_dict[audio_path] = (v_df, a_df)"
   ]
  },
  {
   "cell_type": "code",
   "execution_count": null,
   "metadata": {},
   "outputs": [],
   "source": [
    "train_files, test_files = train_test_split(list(muse_dict.keys()), test_size=0.2, random_state=42)"
   ]
  },
  {
   "cell_type": "code",
   "execution_count": null,
   "metadata": {},
   "outputs": [],
   "source": [
    "train_dict = {key: muse_dict[key] for key in test_files}\n",
    "print(train_dict)"
   ]
  },
  {
   "cell_type": "code",
   "execution_count": null,
   "metadata": {},
   "outputs": [],
   "source": [
    "example_a, b = muse_dict[\"/data/tsst_22_muse_video_nt_lab/raw/c3_muse_stress_2022/raw_data/audio/18.wav\"]\n",
    "print(example_a)"
   ]
  },
  {
   "cell_type": "code",
   "execution_count": null,
   "metadata": {},
   "outputs": [],
   "source": [
    "start = 700\n",
    "end = 2400\n",
    "# Round start and end values to closest timestamp\n",
    "rounded_start = example_a['timestamp'].iloc[(example_a['timestamp'] - start).abs().idxmin()]\n",
    "rounded_end = example_a['timestamp'].iloc[(example_a['timestamp'] - end).abs().idxmin()]\n",
    "\n",
    "print(rounded_start, rounded_end)\n",
    "filtered_df = example_a[(example_a['timestamp'] >= start) & (example_a['timestamp'] <= end)]\n"
   ]
  },
  {
   "cell_type": "code",
   "execution_count": null,
   "metadata": {},
   "outputs": [],
   "source": [
    "display(filtered_df)"
   ]
  },
  {
   "cell_type": "code",
   "execution_count": null,
   "metadata": {},
   "outputs": [],
   "source": []
  }
 ],
 "metadata": {
  "kernelspec": {
   "display_name": "Python 3",
   "language": "python",
   "name": "python3"
  },
  "language_info": {
   "codemirror_mode": {
    "name": "ipython",
    "version": 2
   },
   "file_extension": ".py",
   "mimetype": "text/x-python",
   "name": "python",
   "nbconvert_exporter": "python",
   "pygments_lexer": "ipython2",
   "version": "2.7.6"
  }
 },
 "nbformat": 4,
 "nbformat_minor": 0
}
