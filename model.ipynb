{
 "cells": [
  {
   "cell_type": "code",
   "execution_count": null,
   "metadata": {},
   "outputs": [],
   "source": [
    "import os\n",
    "import audeer\n",
    "import audonnx\n",
    "import audinterface"
   ]
  },
  {
   "cell_type": "markdown",
   "metadata": {
    "collapsed": false
   },
   "source": [
    "# Model Playground"
   ]
  },
  {
   "cell_type": "code",
   "execution_count": null,
   "metadata": {},
   "outputs": [],
   "source": [
    "# Load the model\n",
    "model_root = 'model'\n",
    "cache_root = 'cache'\n",
    "\n",
    "audeer.mkdir(cache_root)\n",
    "def cache_path(file):\n",
    "    return os.path.join(cache_root, file)\n",
    "\n",
    "url = 'https://zenodo.org/record/6221127/files/w2v2-L-robust-12.6bc4a7fd-1.1.0.zip'\n",
    "dst_path = cache_path('model.zip')\n",
    "\n",
    "if not os.path.exists(dst_path):\n",
    "    audeer.download_url(url, dst_path, verbose=True,)\n",
    "if not os.path.exists(model_root):\n",
    "    audeer.extract_archive(dst_path, model_root, verbose=True,)"
   ]
  },
  {
   "cell_type": "code",
   "execution_count": null,
   "metadata": {},
   "outputs": [],
   "source": [
    "model = audonnx.load(model_root)\n",
    "print(model)"
   ]
  },
  {
   "cell_type": "code",
   "execution_count": null,
   "metadata": {},
   "outputs": [],
   "source": [
    "sampling_rate = 16000\n",
    "# use AudInterface to create interface to predict valence, dominance and arousal (logits layer)\n",
    "interface = audinterface.Feature(\n",
    "    model.labels('logits'),\n",
    "    process_func=model,\n",
    "    process_func_args={\n",
    "        'outputs': 'logits',\n",
    "    },\n",
    "    sampling_rate=sampling_rate, # automatic resampling if sampling rates don't align\n",
    "    resample=True,\n",
    "    verbose=True,\n",
    ")"
   ]
  },
  {
   "cell_type": "code",
   "execution_count": null,
   "metadata": {},
   "outputs": [],
   "source": [
    "sample = \"/data/dst_tsst_22_bi_multi_nt_lab/processed/audio_files/JK261022_tsst_video_segment.mp3\"\n",
    "interface.process_files(sample)"
   ]
  },
  {
   "cell_type": "code",
   "execution_count": null,
   "metadata": {},
   "outputs": [],
   "source": []
  }
 ],
 "metadata": {
  "kernelspec": {
   "display_name": "Python 3",
   "language": "python",
   "name": "python3"
  },
  "language_info": {
   "codemirror_mode": {
    "name": "ipython",
    "version": 2
   },
   "file_extension": ".py",
   "mimetype": "text/x-python",
   "name": "python",
   "nbconvert_exporter": "python",
   "pygments_lexer": "ipython2",
   "version": "2.7.6"
  }
 },
 "nbformat": 4,
 "nbformat_minor": 0
}
