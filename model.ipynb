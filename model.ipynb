{
 "cells": [
  {
   "cell_type": "code",
   "execution_count": null,
   "metadata": {},
   "outputs": [],
   "source": [
    "import os\n",
    "import audeer\n",
    "import audonnx\n",
    "import audinterface\n",
    "import numpy as np\n",
    "import pandas as pd\n",
    "import torch\n",
    "import torch.nn as nn\n",
    "from transformers import Wav2Vec2Processor\n",
    "from transformers.models.wav2vec2.modeling_wav2vec2 import (\n",
    "    Wav2Vec2Model,\n",
    "    Wav2Vec2PreTrainedModel,\n",
    ")\n",
    "from sklearn.model_selection import train_test_split\n",
    "import matplotlib.pyplot as plt\n",
    "from torch.utils.data import DataLoader, Dataset\n",
    "from moviepy.editor import AudioFileClip\n",
    "import wave"
   ]
  },
  {
   "cell_type": "markdown",
   "metadata": {
    "collapsed": false
   },
   "source": [
    "# Stress Model"
   ]
  },
  {
   "cell_type": "code",
   "execution_count": null,
   "metadata": {},
   "outputs": [],
   "source": [
    "class RegressionHead(nn.Module):\n",
    "    \"\"\"\n",
    "    This class defines the regression head for the emotion model. It consists of a series of linear layers\n",
    "    and applies a linear transformation to the input features without any activation function.\n",
    "    \"\"\"\n",
    "    def __init__(self, config):\n",
    "        \"\"\"\n",
    "        @param config: model configuration\n",
    "        \"\"\"\n",
    "        super().__init__()\n",
    "        self.dense = nn.Linear(config.hidden_size, config.hidden_size)\n",
    "        self.dropout = nn.Dropout(config.final_dropout)\n",
    "        self.fc = nn.Linear(config.hidden_size, config.num_labels)\n",
    "\n",
    "    def forward(self, features, **kwargs):\n",
    "        \"\"\"\n",
    "        Forward pass of the regression head.\n",
    "        @param features: the hidden states\n",
    "        @return: Output tensor after passing through the regression head\n",
    "        \"\"\"\n",
    "        x = features\n",
    "        x = self.dropout(x)\n",
    "        x = self.dense(x)\n",
    "        # x = torch.tanh(x) # Don't use actiavtion\n",
    "        x = self.dropout(x)\n",
    "        x = self.out_proj(x)\n",
    "\n",
    "        return x"
   ]
  },
  {
   "cell_type": "code",
   "execution_count": null,
   "metadata": {},
   "outputs": [],
   "source": [
    "class StressModel(Wav2Vec2PreTrainedModel):\n",
    "    \"\"\"\n",
    "    This class defines the speech stress classifier model based on the Wav2Vec2 architecture. It consists of\n",
    "    the Wav2Vec2 base model, a regression head, and model weights.\n",
    "    \"\"\"\n",
    "    def __init__(self, config):\n",
    "        super().__init__(config)\n",
    "        self.config = config\n",
    "        self.wav2vec2 = Wav2Vec2Model(config)\n",
    "        self.classifier = RegressionHead(config)\n",
    "        self.init_weights()\n",
    "\n",
    "    def forward(self, input_values):\n",
    "        \"\"\"\n",
    "        Forward pass of the stress model.\n",
    "        @param input_values: Raw input audio\n",
    "        @return: Hidden states and logits\n",
    "        \"\"\"\n",
    "        input_values = input_values.float()\n",
    "        outputs = self.wav2vec2(input_values)\n",
    "        hidden_states = outputs[0]\n",
    "        hidden_states = torch.mean(hidden_states, dim=1)\n",
    "        logits = self.classifier(hidden_states)\n",
    "        return hidden_states, logits"
   ]
  },
  {
   "cell_type": "markdown",
   "metadata": {
    "collapsed": false
   },
   "source": [
    "### Load Pre-trained model"
   ]
  },
  {
   "cell_type": "code",
   "execution_count": null,
   "metadata": {},
   "outputs": [],
   "source": [
    "# load model from hub\n",
    "device = torch.device(\"cuda\" if torch.cuda.is_available() else \"cpu\")\n",
    "model_name = 'audeering/wav2vec2-large-robust-12-ft-emotion-msp-dim'\n",
    "processor = Wav2Vec2Processor.from_pretrained(model_name)\n",
    "model = StressModel.from_pretrained(model_name)"
   ]
  },
  {
   "cell_type": "code",
   "execution_count": null,
   "metadata": {},
   "outputs": [],
   "source": [
    "# Freeze CNN layers, but not TransformerLayers\n",
    "for name, param in model.named_parameters():\n",
    "    if \"wav2vec2.feature_extractor\" in name:\n",
    "        param.requires_grad = False\n",
    "    if \"wav2vec2.masked_spec_embed\" in name:\n",
    "        param.requires_grad = False"
   ]
  },
  {
   "cell_type": "code",
   "execution_count": null,
   "metadata": {},
   "outputs": [],
   "source": [
    "# Create a new optimizer for the trainable layers (only transformer layers)\n",
    "optimizer = torch.optim.Adam(\n",
    "    filter(lambda p: p.requires_grad, model.parameters()),\n",
    "    lr=1e-4 # learning rate according to their documentation\n",
    ")\n",
    "\n",
    "# loss function\n",
    "criterion = nn.MSELoss()"
   ]
  },
  {
   "cell_type": "markdown",
   "metadata": {
    "collapsed": false
   },
   "source": [
    "### Load Data"
   ]
  },
  {
   "cell_type": "code",
   "execution_count": null,
   "metadata": {},
   "outputs": [],
   "source": [
    "# Set hyperparameters\n",
    "window_size = 10  # seconds\n",
    "stride = 5  # seconds\n",
    "batch_size = 32\n",
    "num_epochs = 10\n",
    "learning_rate = 1e-4"
   ]
  },
  {
   "cell_type": "code",
   "execution_count": null,
   "metadata": {},
   "outputs": [],
   "source": [
    "# Define your custom dataset\n",
    "class AudioDataset(Dataset):\n",
    "    def __init__(self, audio_files, window_size, stride, targets):\n",
    "        self.audio_files = audio_files\n",
    "        self.window_size = window_size\n",
    "        self.stride = stride\n",
    "        self.targets = targets\n",
    "\n",
    "    def __len__(self):\n",
    "        return sum(int(AudioFileClip(audio_file).duration // self.stride)\n",
    "                   for audio_file in self.audio_files)\n",
    "\n",
    "    def __getitem__(self, idx):\n",
    "        # first we need to find the corresponding audio file\n",
    "        cumulative_windows = 0\n",
    "        audio_file_idx = 0\n",
    "\n",
    "        while cumulative_windows <= idx:\n",
    "            cumulative_windows += len(self.audio_files[audio_file_idx])\n",
    "            audio_file_idx += 1\n",
    "\n",
    "        audio_file_idx -= 1  # since while is false, subtract the last plus\n",
    "\n",
    "        audio_file = self.audio_files[audio_file_idx]\n",
    "        audio = wave.open(audio_file)\n",
    "        audio_duration = len(audio_files)\n",
    "        frame_rate = audio.getframerate()\n",
    "\n",
    "        start = (idx - cumulative_windows + len(self.audio_files[audio_file_idx]) * self.stride)\n",
    "        audio.setpos(start)\n",
    "        window = audio.readframes(int(self.window_size * frame_rate))\n",
    "        audio.close()\n",
    "\n",
    "        # Convert the raw audio frames to a numeric representation\n",
    "        samples = np.frombuffer(window, dtype=np.int16)\n",
    "\n",
    "        # Convert samples to a tensor\n",
    "        window = torch.tensor(samples)\n",
    "\n",
    "        target = self.targets[audio_file_idx]\n",
    "        return window, target"
   ]
  },
  {
   "cell_type": "code",
   "execution_count": null,
   "metadata": {},
   "outputs": [],
   "source": [
    "def custom_collate_fn(batch):\n",
    "    # Separate the windows and targets from the batch\n",
    "    windows, targets = zip(*batch)\n",
    "\n",
    "    # Convert windows to tensors and concatenate them along the batch dimension\n",
    "    windows = torch.stack(windows)\n",
    "\n",
    "    # Convert targets to tensors\n",
    "    targets = torch.tensor(targets)\n",
    "\n",
    "    return windows, targets"
   ]
  },
  {
   "cell_type": "code",
   "execution_count": null,
   "metadata": {},
   "outputs": [],
   "source": [
    "# Load your list of audio file paths\n",
    "data = pd.read_csv(\"/data/dst_tsst_22_bi_multi_nt_lab/processed/audio_files/tsst_data.csv\")\n",
    "audio_files = data[\"TSST_audio_segment\"]\n",
    "\n",
    "# Perform train-test split\n",
    "train_files, test_files = train_test_split(audio_files, test_size=0.2, random_state=42)\n",
    "\n",
    "# Create train and test datasets\n",
    "train_dataset = AudioDataset(list(train_files), window_size, stride, data[\"stress_delta\"])\n",
    "test_dataset = AudioDataset(list(test_files), window_size, stride, data[\"stress_delta\"])\n",
    "\n",
    "# Create train and test data loaders\n",
    "train_loader = DataLoader(train_dataset, batch_size=batch_size, shuffle=True, collate_fn=custom_collate_fn)#\n",
    "test_loader = DataLoader(test_dataset, batch_size=batch_size, shuffle=False, collate_fn=custom_collate_fn) # collate_fn=custom_collate_fn"
   ]
  },
  {
   "cell_type": "markdown",
   "metadata": {
    "collapsed": false
   },
   "source": [
    "### Training"
   ]
  },
  {
   "cell_type": "code",
   "execution_count": null,
   "metadata": {},
   "outputs": [],
   "source": [
    "# Training loop\n",
    "train_losses = []\n",
    "test_losses = []\n",
    "\n",
    "for epoch in range(num_epochs):\n",
    "    model = model.to(device)\n",
    "    model.train()\n",
    "    train_loss = 0.0\n",
    "\n",
    "    # Iterate over training batches\n",
    "    for batch, target in train_loader:\n",
    "        batch = batch.to(device)\n",
    "        target = target.to(device)\n",
    "        optimizer.zero_grad()\n",
    "\n",
    "        # Forward pass\n",
    "        #outputs = model(batch)\n",
    "        outputs = model(batch.to(device))\n",
    "\n",
    "        # Compute loss\n",
    "        loss = criterion(outputs, target)  # Adjust targets according to your data\n",
    "        train_loss += loss.item() * batch.size(0)\n",
    "\n",
    "        # Backward pass and optimization\n",
    "        loss.backward()\n",
    "        optimizer.step()\n",
    "\n",
    "    # Compute average train loss for the epoch\n",
    "    train_loss /= len(train_loader.dataset)\n",
    "    train_losses.append(train_loss)\n",
    "\n",
    "    # Evaluation on test set\n",
    "    model.eval()\n",
    "    test_loss = 0.0\n",
    "\n",
    "    with torch.no_grad():\n",
    "        for batch, target in test_loader:\n",
    "            batch = batch.to(device)\n",
    "            target = target.to(device)\n",
    "\n",
    "            # Forward pass\n",
    "            outputs = model(batch)\n",
    "\n",
    "            # Compute loss\n",
    "            loss = criterion(outputs, target)  # Adjust targets according to your data\n",
    "            test_loss += loss.item() * batch.size(0)\n",
    "\n",
    "    # Compute average test loss for the epoch\n",
    "    test_loss /= len(test_loader.dataset)\n",
    "    test_losses.append(test_loss)\n",
    "\n",
    "    # Print progress\n",
    "    print(f\"Epoch {epoch+1}/{num_epochs}: Train Loss: {train_loss:.4f}, Test Loss: {test_loss:.4f}\")\n",
    "\n",
    "# Plot loss over epochs\n",
    "plt.plot(range(1, num_epochs+1), train_losses, label='Train Loss')\n",
    "plt.plot(range(1, num_epochs+1), test_losses, label='Test Loss')\n",
    "plt.xlabel('Epoch')\n",
    "plt.ylabel('Loss')\n",
    "plt.legend()\n",
    "plt.savefig('/data/dst_tsst_22_bi_multi_nt_lab/processed/audio_files/loss_plot.png')\n",
    "plt.show()\n"
   ]
  },
  {
   "cell_type": "code",
   "execution_count": null,
   "metadata": {},
   "outputs": [],
   "source": [
    "def process_func(\n",
    "    x: np.ndarray,\n",
    "    sampling_rate: int,\n",
    "    embeddings: bool = False,\n",
    ") -> np.ndarray:\n",
    "    \"\"\"\n",
    "    Predict stress or extract embeddings from raw audio signal.\n",
    "\n",
    "    Args:\n",
    "        x (np.ndarray): Input raw audio signal.\n",
    "        sampling_rate (int): Sampling rate of the audio signal.\n",
    "        embeddings (bool, optional): Flag to return stress level instead of emotions. Defaults to False.\n",
    "\n",
    "    Returns:\n",
    "        np.ndarray: Predicted emotions or embeddings.\n",
    "\n",
    "    \"\"\"\n",
    "    y = processor(x, sampling_rate=sampling_rate)\n",
    "    y = y['input_values'][0]\n",
    "    y = torch.from_numpy(y).to(device)\n",
    "    with torch.no_grad():\n",
    "        y = model(y)[0 if embeddings else 1]\n",
    "    y = y.detach().cpu().numpy()\n",
    "    return y"
   ]
  },
  {
   "cell_type": "code",
   "execution_count": null,
   "metadata": {},
   "outputs": [],
   "source": [
    "#WIP\n",
    "# Dummy signal\n",
    "sampling_rate = 16000\n",
    "signal = np.zeros((1, sampling_rate), dtype=np.float32)\n",
    "\n",
    "\n",
    "\n",
    "\n",
    "\n",
    "process_func(signal, sampling_rate)\n",
    "process_func(signal, sampling_rate, embeddings=True)"
   ]
  },
  {
   "cell_type": "code",
   "execution_count": null,
   "metadata": {},
   "outputs": [],
   "source": []
  },
  {
   "cell_type": "code",
   "execution_count": null,
   "metadata": {},
   "outputs": [],
   "source": [
    "# Load the model\n",
    "model_root = 'model'\n",
    "cache_root = 'cache'\n",
    "\n",
    "audeer.mkdir(cache_root)\n",
    "def cache_path(file):\n",
    "    return os.path.join(cache_root, file)\n",
    "\n",
    "url = 'https://zenodo.org/record/6221127/files/w2v2-L-robust-12.6bc4a7fd-1.1.0.zip'\n",
    "dst_path = cache_path('model.zip')\n",
    "\n",
    "if not os.path.exists(dst_path):\n",
    "    audeer.download_url(url, dst_path, verbose=True,)\n",
    "if not os.path.exists(model_root):\n",
    "    audeer.extract_archive(dst_path, model_root, verbose=True,)"
   ]
  },
  {
   "cell_type": "code",
   "execution_count": null,
   "metadata": {},
   "outputs": [],
   "source": [
    "model = audonnx.load(model_root)\n",
    "print(model)"
   ]
  },
  {
   "cell_type": "code",
   "execution_count": null,
   "metadata": {},
   "outputs": [],
   "source": []
  },
  {
   "cell_type": "code",
   "execution_count": null,
   "metadata": {},
   "outputs": [],
   "source": []
  },
  {
   "cell_type": "code",
   "execution_count": null,
   "metadata": {},
   "outputs": [],
   "source": []
  },
  {
   "cell_type": "code",
   "execution_count": null,
   "metadata": {},
   "outputs": [],
   "source": [
    "pretrained_model = model  # Replace 'model' with the actual pre-trained model instance\n",
    "\n",
    "# Freeze the CNN layers\n",
    "for param in pretrained_model.parameters():\n",
    "    if 'cnn' in param.name:\n",
    "        param.requires_grad = False\n"
   ]
  },
  {
   "cell_type": "code",
   "execution_count": null,
   "metadata": {},
   "outputs": [],
   "source": [
    "# now working on the previous hidden states and add on a new\n",
    "hidden_states = audinterface.Feature(\n",
    "    model.labels('hidden_states'),\n",
    "    process_func=model,\n",
    "    process_func_args={\n",
    "        'outputs': 'hidden_states',\n",
    "    },\n",
    "    sampling_rate=16000,\n",
    "    resample=True,\n",
    "    num_workers=5,\n",
    "    verbose=True,\n",
    ")\n",
    "\n",
    "features_w2v2 = hidden_states.process_index(\n",
    "    emotion.index,\n",
    "    root=db.root,\n",
    "    cache_root=audeer.path(cache_root, 'w2v2'),\n",
    ")\n",
    "features_w2v2"
   ]
  },
  {
   "cell_type": "markdown",
   "metadata": {
    "collapsed": false
   },
   "source": [
    "#### Playground"
   ]
  },
  {
   "cell_type": "code",
   "execution_count": null,
   "metadata": {},
   "outputs": [],
   "source": [
    "sampling_rate = 16000\n",
    "# use AudInterface to create interface to predict valence, dominance and arousal (logits layer)\n",
    "interface = audinterface.Feature(\n",
    "    model.labels('logits'),\n",
    "    process_func=model,\n",
    "    process_func_args={\n",
    "        'outputs': 'logits',\n",
    "    },\n",
    "    sampling_rate=sampling_rate, # automatic resampling if sampling rates don't align\n",
    "    resample=True,\n",
    "    verbose=True,\n",
    ")"
   ]
  },
  {
   "cell_type": "code",
   "execution_count": null,
   "metadata": {},
   "outputs": [],
   "source": [
    "sample = \"/data/dst_tsst_22_bi_multi_nt_lab/processed/audio_files/JK261022_tsst_video_segment.mp3\"\n",
    "interface.process_files(sample)"
   ]
  }
 ],
 "metadata": {
  "kernelspec": {
   "display_name": "Python 3",
   "language": "python",
   "name": "python3"
  },
  "language_info": {
   "codemirror_mode": {
    "name": "ipython",
    "version": 2
   },
   "file_extension": ".py",
   "mimetype": "text/x-python",
   "name": "python",
   "nbconvert_exporter": "python",
   "pygments_lexer": "ipython2",
   "version": "2.7.6"
  }
 },
 "nbformat": 4,
 "nbformat_minor": 0
}
